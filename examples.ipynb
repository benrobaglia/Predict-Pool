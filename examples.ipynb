{
 "cells": [
  {
   "cell_type": "code",
   "execution_count": 21,
   "metadata": {},
   "outputs": [
    {
     "data": {
      "text/plain": [
       "999394589174480568"
      ]
     },
     "execution_count": 21,
     "metadata": {},
     "output_type": "execute_result"
    }
   ],
   "source": [
    "import json\n",
    "from web3 import Web3\n",
    "\n",
    "def get_abi() -> dict:\n",
    "    with open('abi/PredictVault.json', 'r') as abi_file:\n",
    "        abi = json.load(abi_file)\n",
    "        return abi['abi']\n",
    "    \n",
    "rpc = 'https://testnet-rpc.monad.xyz'\n",
    "web3 = Web3(Web3.HTTPProvider(rpc))\n",
    "abi = get_abi()\n",
    "predict_vault_address = \"0xB9c17D46550A0204D8cC21ebE8d93d2bbed87CAf\"\n",
    "predict_vault = web3.eth.contract(predict_vault_address, abi=abi)\n",
    "\n",
    "#predict_vault.functions.totalMON.call()\n",
    "predict_vault.functions.balanceOf(\"0x7B77E94C864E7D965a6E2DD4942DE0dF7072f9F5\").call()\n"
   ]
  }
 ],
 "metadata": {
  "kernelspec": {
   "display_name": ".venv",
   "language": "python",
   "name": "python3"
  },
  "language_info": {
   "codemirror_mode": {
    "name": "ipython",
    "version": 3
   },
   "file_extension": ".py",
   "mimetype": "text/x-python",
   "name": "python",
   "nbconvert_exporter": "python",
   "pygments_lexer": "ipython3",
   "version": "3.12.3"
  }
 },
 "nbformat": 4,
 "nbformat_minor": 2
}
